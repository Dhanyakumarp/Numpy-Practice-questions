{
 "cells": [
  {
   "cell_type": "markdown",
   "id": "f171a0cb",
   "metadata": {},
   "source": [
    "#Assignment\n"
   ]
  },
  {
   "cell_type": "code",
   "execution_count": 1,
   "id": "af529896",
   "metadata": {},
   "outputs": [
    {
     "name": "stdout",
     "output_type": "stream",
     "text": [
      "1.21.5\n",
      "blas_mkl_info:\n",
      "    libraries = ['mkl_rt']\n",
      "    library_dirs = ['C:/ProgramData/Anaconda3\\\\Library\\\\lib']\n",
      "    define_macros = [('SCIPY_MKL_H', None), ('HAVE_CBLAS', None)]\n",
      "    include_dirs = ['C:/ProgramData/Anaconda3\\\\Library\\\\include']\n",
      "blas_opt_info:\n",
      "    libraries = ['mkl_rt']\n",
      "    library_dirs = ['C:/ProgramData/Anaconda3\\\\Library\\\\lib']\n",
      "    define_macros = [('SCIPY_MKL_H', None), ('HAVE_CBLAS', None)]\n",
      "    include_dirs = ['C:/ProgramData/Anaconda3\\\\Library\\\\include']\n",
      "lapack_mkl_info:\n",
      "    libraries = ['mkl_rt']\n",
      "    library_dirs = ['C:/ProgramData/Anaconda3\\\\Library\\\\lib']\n",
      "    define_macros = [('SCIPY_MKL_H', None), ('HAVE_CBLAS', None)]\n",
      "    include_dirs = ['C:/ProgramData/Anaconda3\\\\Library\\\\include']\n",
      "lapack_opt_info:\n",
      "    libraries = ['mkl_rt']\n",
      "    library_dirs = ['C:/ProgramData/Anaconda3\\\\Library\\\\lib']\n",
      "    define_macros = [('SCIPY_MKL_H', None), ('HAVE_CBLAS', None)]\n",
      "    include_dirs = ['C:/ProgramData/Anaconda3\\\\Library\\\\include']\n",
      "Supported SIMD extensions in this NumPy install:\n",
      "    baseline = SSE,SSE2,SSE3\n",
      "    found = SSSE3,SSE41\n",
      "    not found = POPCNT,SSE42,AVX,F16C,FMA3,AVX2,AVX512F,AVX512CD,AVX512_SKX,AVX512_CLX,AVX512_CNL\n",
      "None\n"
     ]
    }
   ],
   "source": [
    "#1.Write a NumPy program to get the numpy version and show numpy build configuration. \n",
    "import numpy as np\n",
    "print(np.__version__)\n",
    "print(np.show_config())"
   ]
  },
  {
   "cell_type": "code",
   "execution_count": 8,
   "id": "76e55dfe",
   "metadata": {},
   "outputs": [
    {
     "name": "stdout",
     "output_type": "stream",
     "text": [
      "add(x1, x2, /, out=None, *, where=True, casting='same_kind', order='K', dtype=None, subok=True[, signature, extobj])\n",
      "\n",
      "Add arguments element-wise.\n",
      "\n",
      "Parameters\n",
      "----------\n",
      "x1, x2 : array_like\n",
      "    The arrays to be added.\n",
      "    If ``x1.shape != x2.shape``, they must be broadcastable to a common\n",
      "    shape (which becomes the shape of the output).\n",
      "out : ndarray, None, or tuple of ndarray and None, optional\n",
      "    A location into which the result is stored. If provided, it must have\n",
      "    a shape that the inputs broadcast to. If not provided or None,\n",
      "    a freshly-allocated array is returned. A tuple (possible only as a\n",
      "    keyword argument) must have length equal to the number of outputs.\n",
      "where : array_like, optional\n",
      "    This condition is broadcast over the input. At locations where the\n",
      "    condition is True, the `out` array will be set to the ufunc result.\n",
      "    Elsewhere, the `out` array will retain its original value.\n",
      "    Note that if an uninitialized `out` array is created via the default\n",
      "    ``out=None``, locations within it where the condition is False will\n",
      "    remain uninitialized.\n",
      "**kwargs\n",
      "    For other keyword-only arguments, see the\n",
      "    :ref:`ufunc docs <ufuncs.kwargs>`.\n",
      "\n",
      "Returns\n",
      "-------\n",
      "add : ndarray or scalar\n",
      "    The sum of `x1` and `x2`, element-wise.\n",
      "    This is a scalar if both `x1` and `x2` are scalars.\n",
      "\n",
      "Notes\n",
      "-----\n",
      "Equivalent to `x1` + `x2` in terms of array broadcasting.\n",
      "\n",
      "Examples\n",
      "--------\n",
      ">>> np.add(1.0, 4.0)\n",
      "5.0\n",
      ">>> x1 = np.arange(9.0).reshape((3, 3))\n",
      ">>> x2 = np.arange(3.0)\n",
      ">>> np.add(x1, x2)\n",
      "array([[  0.,   2.,   4.],\n",
      "       [  3.,   5.,   7.],\n",
      "       [  6.,   8.,  10.]])\n",
      "\n",
      "The ``+`` operator can be used as a shorthand for ``np.add`` on ndarrays.\n",
      "\n",
      ">>> x1 = np.arange(9.0).reshape((3, 3))\n",
      ">>> x2 = np.arange(3.0)\n",
      ">>> x1 + x2\n",
      "array([[ 0.,  2.,  4.],\n",
      "       [ 3.,  5.,  7.],\n",
      "       [ 6.,  8., 10.]])\n",
      "None\n"
     ]
    }
   ],
   "source": [
    "#2. Write a NumPy program to  get help on the add function.\n",
    "print(np.info(np.add))"
   ]
  },
  {
   "cell_type": "code",
   "execution_count": 14,
   "id": "7d0f0e0e",
   "metadata": {},
   "outputs": [
    {
     "name": "stdout",
     "output_type": "stream",
     "text": [
      "Original array [12 34 56 78]\n",
      "\n",
      "Array contain all non-zero element= True\n",
      "\n",
      "Original array [34  6  0 34]\n",
      "\n",
      "Array contain all non-zero element= False\n"
     ]
    }
   ],
   "source": [
    "#3. Write a NumPy program to test whether none of the elements of a given array is zero.\n",
    "#The numpy. all() function tests whether all array elements along the mentioned axis evaluate to True.\n",
    "\n",
    "a=np.array([12,34,56,78])\n",
    "b=np.array([34,6,0,34])\n",
    "print(\"Original array\",a)\n",
    "print(\"\\nArray contain all non-zero element=\",np.all(a))\n",
    "print(\"\\nOriginal array\",b)\n",
    "print(\"\\nArray contain all non-zero element=\",np.all(b))\n"
   ]
  },
  {
   "cell_type": "code",
   "execution_count": 21,
   "id": "95f2c85c",
   "metadata": {},
   "outputs": [
    {
     "name": "stdout",
     "output_type": "stream",
     "text": [
      "Original array [12 34 56 78]\n",
      "Array contain non zero elements= True\n",
      "Original array [[0. 0.]\n",
      " [0. 0.]]\n",
      "Array contain non zero elements= False\n"
     ]
    }
   ],
   "source": [
    "#4. Write a NumPy program to test whether any of the elements of a given array is non-zero.\n",
    "#The any() function in NumPy is used to check if all the elements of an array along a given axis evaluate to True \n",
    "a=np.array([12,34,56,78])\n",
    "b=np.zeros((2,2))\n",
    "print(\"Original array\",a)\n",
    "print(\"Array contain non zero elements=\",np.any(a))\n",
    "print(\"Original array\",b)\n",
    "print(\"Array contain non zero elements=\",np.any(b))\n",
    "\n"
   ]
  },
  {
   "cell_type": "code",
   "execution_count": 24,
   "id": "6f1b52dc",
   "metadata": {},
   "outputs": [
    {
     "name": "stdout",
     "output_type": "stream",
     "text": [
      "a==d False\n",
      "a==d True\n"
     ]
    }
   ],
   "source": [
    "#any and all\n",
    "a = np.array([1,2,3,4])\n",
    "b = np.array([5,6,7,8])\n",
    "c = np.array([1,2,3,4])\n",
    "d=np.array([1,2,5,6])\n",
    "print(\"a==d\",(a==d).all())\n",
    "print(\"a==d\",(a==d).any())"
   ]
  },
  {
   "cell_type": "code",
   "execution_count": 34,
   "id": "7da0d26c",
   "metadata": {},
   "outputs": [
    {
     "name": "stdout",
     "output_type": "stream",
     "text": [
      "Even number= [0 2 4 6 8]\n",
      "Odd Number= [1 3 5 7 9]\n"
     ]
    }
   ],
   "source": [
    "#5.How to extract items that satisfy a given condition from 1D array?\n",
    "#1. Q. Extract all even numbers from arr\n",
    "arr = np.array([0, 1, 2, 3, 4, 5, 6, 7, 8, 9])\n",
    "print(\"Even number=\",arr[arr%2==0])\n",
    "#2. Q.Extract all odd numbers from arr\n",
    "print(\"Odd Number=\",arr[arr%2!=0])"
   ]
  },
  {
   "cell_type": "code",
   "execution_count": 35,
   "id": "da234de1",
   "metadata": {},
   "outputs": [
    {
     "data": {
      "text/plain": [
       "array([ 0, -1,  2, -1,  4, -1,  6, -1,  8, -1])"
      ]
     },
     "execution_count": 35,
     "metadata": {},
     "output_type": "execute_result"
    }
   ],
   "source": [
    "#6.How to replace items that satisfy a condition with another value in numpy array?\n",
    "#Q. Replace all odd numbers in arr with -1\n",
    "arr = np.array([0, 1, 2, 3, 4, 5, 6, 7, 8, 9])\n",
    "arr[arr%2!=0]=-1\n",
    "arr"
   ]
  },
  {
   "cell_type": "code",
   "execution_count": 57,
   "id": "8d402dc9",
   "metadata": {},
   "outputs": [
    {
     "name": "stdout",
     "output_type": "stream",
     "text": [
      "arr= [10  6  2  3  4  5  6  7  8  9]\n",
      "a= [[10  6  2 -1  4 -1  6 -1  8 -1]]\n",
      "b= [10  6  1  1  4  5  6  7  8  9]\n"
     ]
    }
   ],
   "source": [
    "#Q. 7 Replace all odd numbers in arr with -1 without changing arr\n",
    "#where(condition, [x, y])\n",
    "\n",
    "#Return elements chosen from `x` or `y` depending on `condition`.\n",
    "\n",
    "arr = np.array([10, 6, 2, 3, 4, 5, 6, 7, 8, 9])\n",
    "a=np.where([arr%2!=0],-1,arr)\n",
    "b=np.where(arr<4,1,arr)\n",
    "print(\"arr=\",arr)\n",
    "print(\"a=\",a)\n",
    "print(\"b=\",b)"
   ]
  },
  {
   "cell_type": "code",
   "execution_count": 69,
   "id": "9f3414ed",
   "metadata": {},
   "outputs": [
    {
     "name": "stdout",
     "output_type": "stream",
     "text": [
      "a= [0 1 2 3 4 5 6 7 8 9]\n",
      "b= [[0 1]\n",
      " [2 3]\n",
      " [4 5]\n",
      " [6 7]\n",
      " [8 9]]\n"
     ]
    }
   ],
   "source": [
    "#8.How to reshape an array?\n",
    "#Q. Convert a 1D array to a 2D array with 2 rows\n",
    "a=np.arange(10)\n",
    "b=np.reshape(a,(5,2))\n",
    "print(\"a=\",a)\n",
    "print(\"b=\",b)"
   ]
  },
  {
   "cell_type": "code",
   "execution_count": 98,
   "id": "2c703b36",
   "metadata": {},
   "outputs": [
    {
     "name": "stdout",
     "output_type": "stream",
     "text": [
      "a= [0 1 2 3 4 5 6 7 8 9]\n",
      "b= [1 1 1 1 1 1 1 1 1 1]\n",
      "Output1= [[0 1 2 3 4 5 6 7 8 9]\n",
      " [1 1 1 1 1 1 1 1 1 1]]\n",
      "output2= [0 1 2 3 4 5 6 7 8 9 1 1 1 1 1 1 1 1 1 1]\n",
      "Reshape [[0 1 2 3 4]\n",
      " [5 6 7 8 9]]\n"
     ]
    }
   ],
   "source": [
    "#9.How to stack two arrays vertically?\n",
    "#Q. Stack arrays a and b vertically\n",
    " #a= np.arange(10).reshape(2,-1)\n",
    "#b = np.repeat(1, 10).reshape(2,-1)\n",
    "\n",
    "a=np.arange(10)#Return evenly spaced values within a given interval.\n",
    "\n",
    "b=np.repeat(1,10) #np.repeat(a, repeats, axis=None) \n",
    "#Docstring: Repeat elements of an array.here 1 repeated 10 times\n",
    "print(\"a=\",a)\n",
    "print(\"b=\",b)\n",
    "np.concatenate([a,b],axis=0)\n",
    "print(\"Output1=\",np.vstack((a,b)))\n",
    "print(\"output2=\",np.concatenate([a,b],axis=0))\n",
    "print(\"Reshape\",a.reshape(2,-1))"
   ]
  },
  {
   "cell_type": "code",
   "execution_count": 111,
   "id": "ab2720b8",
   "metadata": {},
   "outputs": [
    {
     "name": "stdout",
     "output_type": "stream",
     "text": [
      "a= [[0 1 2 3 4]\n",
      " [5 6 7 8 9]]\n",
      "b= [[1 1 1 1 1]\n",
      " [1 1 1 1 1]]\n",
      "c= [[0 1 2 3 4]\n",
      " [5 6 7 8 9]\n",
      " [1 1 1 1 1]\n",
      " [1 1 1 1 1]]\n",
      "[[0 1 2 3 4]\n",
      " [5 6 7 8 9]\n",
      " [1 1 1 1 1]\n",
      " [1 1 1 1 1]]\n"
     ]
    }
   ],
   "source": [
    "a=np.arange(10).reshape(2,-1)#concatenation axis=1 works for 2d array so convert 1d to 2d\n",
    "b=np.repeat(1,10) .reshape(2,-1)\n",
    "print(\"a=\",a)\n",
    "print(\"b=\",b)\n",
    "c=np.concatenate((a,b),axis=0)\n",
    "print(\"c=\",c)\n",
    "print(np.r_[a,b])\n"
   ]
  },
  {
   "cell_type": "code",
   "execution_count": 115,
   "id": "86652992",
   "metadata": {},
   "outputs": [
    {
     "name": "stdout",
     "output_type": "stream",
     "text": [
      "a= [[0 1 2 3 4]\n",
      " [5 6 7 8 9]]\n",
      "b= [[1 1 1 1 1]\n",
      " [1 1 1 1 1]]\n",
      "Output1= [[0 1 2 3 4 1 1 1 1 1]\n",
      " [5 6 7 8 9 1 1 1 1 1]]\n",
      "output2= [[0 1 2 3 4 1 1 1 1 1]\n",
      " [5 6 7 8 9 1 1 1 1 1]]\n",
      "output3= [[0 1 2 3 4 1 1 1 1 1]\n",
      " [5 6 7 8 9 1 1 1 1 1]]\n"
     ]
    }
   ],
   "source": [
    "#10.How to stack two arrays horizontally?\n",
    "#Q. Stack the arrays a and b horizontally.\n",
    "a = np.arange(10).reshape(2,-1)\n",
    "\n",
    "b = np.repeat(1, 10).reshape(2,-1)\n",
    "\n",
    "print(\"a=\",a)\n",
    "print(\"b=\",b)\n",
    "print(\"Output1=\",np.hstack([a,b]))\n",
    "print(\"output2=\",np.concatenate([a,b],axis=1))\n",
    "print(\"output3=\",np.c_[a,b])"
   ]
  },
  {
   "cell_type": "code",
   "execution_count": 121,
   "id": "405131d5",
   "metadata": {},
   "outputs": [
    {
     "name": "stdout",
     "output_type": "stream",
     "text": [
      "a= [1 2 3]\n",
      "b= [1 1 1 2 2 2 3 3 3]\n",
      "C= [1 2 3 1 2 3 1 2 3]\n",
      "d= [1 1 1 2 2 2 3 3 3 1 2 3 1 2 3 1 2 3]\n"
     ]
    }
   ],
   "source": [
    "#11.How to generate custom sequences in numpy without hardcoding?\n",
    "#Create the following pattern without hardcoding. Use only numpy functions and the below input array a\n",
    "#Input:\n",
    "#a = np.array([1,2,3])\n",
    "#output=array([1, 1, 1, 2, 2, 2, 3, 3, 3, 1, 2, 3, 1, 2, 3, 1, 2, 3])\n",
    "a=np.array([1,2,3])\n",
    "print(\"a=\",a)\n",
    "b=np.repeat(a,3)#Repeat elements of an array.\n",
    "print(\"b=\",b)\n",
    "c=np.tile(a,3) #Construct an array by repeating A the number of times given by reps.tile(a,reps)\n",
    "print(\"C=\",c)\n",
    "d=np.hstack([b,c])\n",
    "print(\"d=\",d)"
   ]
  },
  {
   "cell_type": "code",
   "execution_count": 2,
   "id": "ce52b149",
   "metadata": {},
   "outputs": [
    {
     "data": {
      "text/plain": [
       "array([2, 4])"
      ]
     },
     "execution_count": 2,
     "metadata": {},
     "output_type": "execute_result"
    }
   ],
   "source": [
    "#12.How to get the common items between two python numpy arrays?\n",
    "# Input:\n",
    "# a = np.array([1,2,3,2,3,4,3,4,5,6])\n",
    "# b = np.array([7,2,10,2,7,4,9,4,9,8])\n",
    "\n",
    "# Desired Output:\n",
    "# array([2, 4])\n",
    "\n",
    "a = np.array([1,2,3,2,3,4,3,4,5,6])\n",
    "b = np.array([7,2,10,2,7,4,9,4,9,8])\n",
    "c = np.intersect1d(a,b)\n",
    "c"
   ]
  },
  {
   "cell_type": "code",
   "execution_count": 6,
   "id": "93bce8fb",
   "metadata": {},
   "outputs": [
    {
     "data": {
      "text/plain": [
       "array([1, 2, 3, 4])"
      ]
     },
     "execution_count": 6,
     "metadata": {},
     "output_type": "execute_result"
    }
   ],
   "source": [
    "#13.How to remove from one array those items that exist in another?\n",
    "# Q. From array a remove all items present in array b\n",
    "\n",
    "# Input:\n",
    "# a = np.array([1,2,3,4,5])\n",
    "# b = np.array([5,6,7,8,9])\n",
    "\n",
    "# Desired Output:\n",
    "# array([1,2,3,4])\n",
    "\n",
    "a = np.array([1,2,3,4,5])\n",
    "b = np.array([5,6,7,8,9])\n",
    "c = np.setdiff1d(a,b)\n",
    "c"
   ]
  },
  {
   "cell_type": "code",
   "execution_count": 7,
   "id": "e785bbc1",
   "metadata": {},
   "outputs": [
    {
     "data": {
      "text/plain": [
       "(array([1, 3, 5, 7], dtype=int64),)"
      ]
     },
     "execution_count": 7,
     "metadata": {},
     "output_type": "execute_result"
    }
   ],
   "source": [
    "#14.How to get the positions where elements of two arrays match?\n",
    "# Q. Get the positions where elements of a and b match\n",
    "\n",
    "# Input:\n",
    "# a = np.array([1,2,3,2,3,4,3,4,5,6])\n",
    "# b = np.array([7,2,10,2,7,4,9,4,9,8])\n",
    "\n",
    "# Desired Output:\n",
    "# #> (array([1, 3, 5, 7]),)\n",
    "\n",
    "a = np.array([1,2,3,2,3,4,3,4,5,6])\n",
    "b = np.array([7,2,10,2,7,4,9,4,9,8])\n",
    "\n",
    "c=np.where(a==b)\n",
    "c"
   ]
  },
  {
   "cell_type": "code",
   "execution_count": 15,
   "id": "2fed4137",
   "metadata": {},
   "outputs": [
    {
     "name": "stdout",
     "output_type": "stream",
     "text": [
      "(array([1, 3, 4], dtype=int64),)\n",
      "(array([1, 3, 4], dtype=int64),)\n"
     ]
    }
   ],
   "source": [
    "#15. How to extract all numbers between a given range from a numpy array?\n",
    "# Q. Get all items between 5 and 10 from a.\n",
    "# Input:\n",
    "# a = np.array([2, 6, 1, 9, 10, 3, 27])\n",
    "\n",
    "# Desired Output:\n",
    "# (array([6, 9, 10]),)\n",
    "\n",
    "a=np.array([2,6,1,9,10,3,27])\n",
    "ind=np.where(np.logical_and(a>=5,a<=10))\n",
    "index=np.where((a>=5) & (a<=10))\n",
    "#index = np.where((a >= 5) & (a <= 10))\n",
    "print(ind)\n",
    "print(index)\n"
   ]
  },
  {
   "cell_type": "code",
   "execution_count": 32,
   "id": "a6501e07",
   "metadata": {},
   "outputs": [
    {
     "data": {
      "text/plain": [
       "array([6., 7., 9., 8., 9., 7., 5.])"
      ]
     },
     "execution_count": 32,
     "metadata": {},
     "output_type": "execute_result"
    }
   ],
   "source": [
    "#16. How to make a python function that handles scalars to work on numpy arrays?\n",
    "\n",
    "# Q. Convert the function maxx that works on two scalars, to work on two arrays.\n",
    "# Input:\n",
    "# def maxx(x, y):\n",
    "#     \"\"\"Get the maximum of two items\"\"\"\n",
    "#     if x >= y:\n",
    "#         return x\n",
    "#     else:\n",
    "#         return y\n",
    "\n",
    "# maxx(1, 5)\n",
    "# #> 5\n",
    "# Desired Output:\n",
    "\n",
    "# a = np.array([5, 7, 9, 8, 6, 4, 5])\n",
    "# b = np.array([6, 3, 4, 8, 9, 7, 1])\n",
    "# pair_max(a, b)\n",
    "# #> array([ 6.,  7.,  9.,  8.,  9.,  7.,  5.])\n",
    "\n",
    "def maxx(x, y):\n",
    "    \"\"\"Get the maximum of two items\"\"\"\n",
    "    if x >= y:\n",
    "        return x\n",
    "    else:\n",
    "        return y\n",
    "\n",
    "pair_max = np.vectorize(maxx, otypes=[float])\n",
    "\n",
    "a = np.array([5, 7, 9, 8, 6, 4, 5])\n",
    "b = np.array([6, 3, 4, 8, 9, 7, 1])\n",
    "\n",
    "pair_max(a, b)\n"
   ]
  },
  {
   "cell_type": "code",
   "execution_count": 38,
   "id": "f840b32b",
   "metadata": {},
   "outputs": [
    {
     "name": "stdout",
     "output_type": "stream",
     "text": [
      "Before Swaping=\n",
      " [[0 1 2]\n",
      " [3 4 5]\n",
      " [6 7 8]]\n",
      "After Swaping=\n",
      " [[0 2 1]\n",
      " [3 5 4]\n",
      " [6 8 7]]\n",
      "Before Swaping=\n",
      " [[0 1 2]\n",
      " [3 4 5]\n",
      " [6 7 8]]\n",
      "After Swaping=\n",
      " [[0 1 2]\n",
      " [6 7 8]\n",
      " [3 4 5]]\n"
     ]
    }
   ],
   "source": [
    "#17.How to swap two columns in a 2d numpy array?\n",
    "# Q. Swap columns 1 and 2 in the array arr.\n",
    "\n",
    "# arr = np.arange(9).reshape(3,3)\n",
    "# arr\n",
    "# To Swap Columns in numpy\n",
    "#arr[:, [start_index, last_index]] = arr[:, [last_index, start_index]]\n",
    "\n",
    "arr = np.arange(9).reshape(3,3)\n",
    "print(\"Before Swaping=\\n\",arr)\n",
    "arr[:,[1,2]]=arr[:,[2,1]]\n",
    "print(\"After Swaping=\\n\",arr)\n",
    "\n",
    "# To Swap Rows in numpy\n",
    "#arr[[start_index, last_index],:] = arr[[last_index, start_index],:]\n",
    "arr1 = np.arange(9).reshape(3,3)\n",
    "print(\"Before Swaping=\\n\",arr1)\n",
    "arr1[[1,2],:]=arr1[[2,1],:]\n",
    "print(\"After Swaping=\\n\",arr1)\n"
   ]
  }
 ],
 "metadata": {
  "kernelspec": {
   "display_name": "Python 3 (ipykernel)",
   "language": "python",
   "name": "python3"
  },
  "language_info": {
   "codemirror_mode": {
    "name": "ipython",
    "version": 3
   },
   "file_extension": ".py",
   "mimetype": "text/x-python",
   "name": "python",
   "nbconvert_exporter": "python",
   "pygments_lexer": "ipython3",
   "version": "3.9.13"
  }
 },
 "nbformat": 4,
 "nbformat_minor": 5
}
